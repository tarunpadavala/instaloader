{
  "cells": [
    {
      "cell_type": "code",
      "execution_count": 6,
      "metadata": {
        "colab": {
          "base_uri": "https://localhost:8080/"
        },
        "id": "ENrscIKeF0Ah",
        "outputId": "27d98013-bb35-427b-ff64-24875ec3e829"
      },
      "outputs": [
        {
          "name": "stdout",
          "output_type": "stream",
          "text": [
            "Random Forest Accuracy: 0.9985\n",
            "Random Forest Classification Report:\n",
            "               precision    recall  f1-score   support\n",
            "\n",
            "           0       1.00      1.00      1.00      1995\n",
            "           1       1.00      0.40      0.57         5\n",
            "\n",
            "    accuracy                           1.00      2000\n",
            "   macro avg       1.00      0.70      0.79      2000\n",
            "weighted avg       1.00      1.00      1.00      2000\n",
            "\n",
            "XGBoost Accuracy: 0.999\n",
            "XGBoost Classification Report:\n",
            "               precision    recall  f1-score   support\n",
            "\n",
            "           0       1.00      1.00      1.00      1995\n",
            "           1       1.00      0.60      0.75         5\n",
            "\n",
            "    accuracy                           1.00      2000\n",
            "   macro avg       1.00      0.80      0.87      2000\n",
            "weighted avg       1.00      1.00      1.00      2000\n",
            "\n"
          ]
        }
      ],
      "source": [
        "import pandas as pd\n",
        "from sklearn.model_selection import train_test_split\n",
        "from sklearn.ensemble import RandomForestClassifier\n",
        "from xgboost import XGBClassifier\n",
        "from sklearn.metrics import accuracy_score, classification_report\n",
        "\n",
        "df = pd.read_csv(\"./synthetic_fake_profile_dataset.csv\")  \n",
        "\n",
        "X = df.drop(columns=[\"profile_id\", \"suspicious_activity\"])\n",
        "y = df[\"suspicious_activity\"]\n",
        "\n",
        "X_train, X_test, y_train, y_test = train_test_split(X, y, test_size=0.2, random_state=42)\n",
        "\n",
        "rf_model = RandomForestClassifier(random_state=42, n_estimators=100)\n",
        "rf_model.fit(X_train, y_train)\n",
        "\n",
        "rf_predictions = rf_model.predict(X_test)\n",
        "rf_accuracy = accuracy_score(y_test, rf_predictions)\n",
        "print(\"Random Forest Accuracy:\", rf_accuracy)\n",
        "print(\"Random Forest Classification Report:\\n\", classification_report(y_test, rf_predictions))\n",
        "\n",
        "\n",
        "xgb_model = XGBClassifier(\n",
        "    use_label_encoder=False,\n",
        "    eval_metric=\"logloss\",\n",
        "    random_state=42,\n",
        "    n_estimators=50,  \n",
        "    subsample=0.8,  \n",
        "    max_depth=6 \n",
        ")\n",
        "xgb_model.fit(X_train, y_train)\n",
        "\n",
        "xgb_predictions = xgb_model.predict(X_test)\n",
        "xgb_accuracy = accuracy_score(y_test, xgb_predictions)\n",
        "print(\"XGBoost Accuracy:\", xgb_accuracy)\n",
        "print(\"XGBoost Classification Report:\\n\", classification_report(y_test, xgb_predictions))\n",
        "\n"
      ]
    },
    {
      "cell_type": "code",
      "execution_count": null,
      "metadata": {},
      "outputs": [
        {
          "name": "stdout",
          "output_type": "stream",
          "text": [
            "Prediction is :  [0]\n"
          ]
        }
      ],
      "source": [
        "import joblib\n",
        "# joblib.dump(rf_model,'rf_model.pkl')\n",
        "# joblib.dump(xgb_model,'xgb_model.pkl')\n",
        "\n",
        "\n",
        "import numpy as np\n",
        "model = joblib.load('./rf_model.pkl')\n",
        "\n",
        "profile_picture = 1\n",
        "friend_count= 500\n",
        "post_count= 200\n",
        "account_age_days= 1000\n",
        "likes_per_post= 50.5\n",
        "comments_per_post= 10.2\n",
        "shared_links=5\n",
        "about_section=0\n",
        "\n",
        "ans = np.array([\n",
        "    [\n",
        "          profile_picture,\n",
        "            friend_count,\n",
        "            post_count,\n",
        "            account_age_days,\n",
        "            likes_per_post,\n",
        "            comments_per_post,\n",
        "            shared_links,\n",
        "            about_section,\n",
        "    ]\n",
        "])\n",
        "\n",
        "prediction = model.predict(ans)\n",
        "print(\"Prediction is : \", prediction)\n",
        "\n",
        "\n",
        "\n"
      ]
    }
  ],
  "metadata": {
    "colab": {
      "provenance": []
    },
    "kernelspec": {
      "display_name": "harvestify",
      "language": "python",
      "name": "python3"
    },
    "language_info": {
      "codemirror_mode": {
        "name": "ipython",
        "version": 3
      },
      "file_extension": ".py",
      "mimetype": "text/x-python",
      "name": "python",
      "nbconvert_exporter": "python",
      "pygments_lexer": "ipython3",
      "version": "3.6.12"
    }
  },
  "nbformat": 4,
  "nbformat_minor": 0
}
